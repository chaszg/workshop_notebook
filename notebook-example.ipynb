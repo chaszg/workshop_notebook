{
 "cells": [
  {
   "cell_type": "code",
   "execution_count": 1,
   "id": "140db214-964f-431f-83d6-71edbefb087e",
   "metadata": {},
   "outputs": [
    {
     "data": {
      "text/plain": [
       "5"
      ]
     },
     "execution_count": 1,
     "metadata": {},
     "output_type": "execute_result"
    }
   ],
   "source": [
    "2 + 3"
   ]
  },
  {
   "cell_type": "code",
   "execution_count": 2,
   "id": "8ee70d7f-6325-4918-8eb5-61f2d8d780fc",
   "metadata": {},
   "outputs": [
    {
     "data": {
      "text/plain": [
       "2"
      ]
     },
     "execution_count": 2,
     "metadata": {},
     "output_type": "execute_result"
    }
   ],
   "source": [
    "2 + 3\n",
    "4 - 2"
   ]
  },
  {
   "cell_type": "code",
   "execution_count": 4,
   "id": "c6d7c457-dbf9-4bb4-b6b5-3fa15e695706",
   "metadata": {},
   "outputs": [
    {
     "data": {
      "text/plain": [
       "5"
      ]
     },
     "execution_count": 4,
     "metadata": {},
     "output_type": "execute_result"
    }
   ],
   "source": [
    "last = 5\n",
    "last"
   ]
  },
  {
   "cell_type": "code",
   "execution_count": 6,
   "id": "edd0bf43-876b-43f2-b69c-6200a223f059",
   "metadata": {},
   "outputs": [
    {
     "data": {
      "text/plain": [
       "0"
      ]
     },
     "execution_count": 6,
     "metadata": {},
     "output_type": "execute_result"
    }
   ],
   "source": [
    "something = 7\n",
    "nothing = something - 7\n",
    "nothing"
   ]
  },
  {
   "cell_type": "markdown",
   "id": "0a62ec45-6b94-4923-b27f-de3d45d044a5",
   "metadata": {},
   "source": [
    "Plain text"
   ]
  },
  {
   "cell_type": "markdown",
   "id": "0cbb0425-6352-4ff3-99e8-2b84c2ad4187",
   "metadata": {},
   "source": [
    "* Item 1\n",
    "* Item 2\n",
    "* Item 3"
   ]
  },
  {
   "cell_type": "markdown",
   "id": "f0cc5ebb-6919-4b5b-82bd-43d74e9b765f",
   "metadata": {},
   "source": [
    "1. Item 1\n",
    "2. Item 2\n",
    "3. Item 3"
   ]
  },
  {
   "cell_type": "markdown",
   "id": "cfc0bf2e-b6d7-4e08-a4f2-47641b255840",
   "metadata": {},
   "source": [
    "* Item 1\n",
    "    * Subitem 1\n",
    "    * Subitem 2\n",
    "* Item 2\n",
    "    1. Subitem 1\n",
    "    2. Subitem 2"
   ]
  },
  {
   "cell_type": "markdown",
   "id": "5850e10b-d46c-44a7-8b70-3272dde0be68",
   "metadata": {
    "tags": []
   },
   "source": [
    "# Title of Heading 1"
   ]
  },
  {
   "cell_type": "markdown",
   "id": "89868fde-f7f7-42f1-957b-b26fb2ffa5d3",
   "metadata": {
    "jp-MarkdownHeadingCollapsed": true,
    "tags": []
   },
   "source": [
    "## Heading 2"
   ]
  },
  {
   "cell_type": "markdown",
   "id": "31a73955-fdd1-4a5f-9315-4df745775444",
   "metadata": {},
   "source": [
    "### Heading 3"
   ]
  },
  {
   "cell_type": "markdown",
   "id": "8d89e6f7-8999-4a91-a98c-561f478233d5",
   "metadata": {},
   "source": [
    "# Heading 1"
   ]
  },
  {
   "cell_type": "markdown",
   "id": "3741a2b8-3dda-4458-9966-c51a93878dfb",
   "metadata": {},
   "source": [
    "line breaks\n",
    "don't matter.\n",
    "\n",
    "But blank lines\n",
    "create new paragraphs. "
   ]
  },
  {
   "cell_type": "markdown",
   "id": "a12df300-c57b-418e-a5fe-f002e7988f7a",
   "metadata": {},
   "source": [
    "line breaks\n",
    "don't matter.\n",
    "\n",
    "But blank lines\n",
    "create new paragraphs. "
   ]
  },
  {
   "cell_type": "markdown",
   "id": "213eff9c-df65-413d-866b-431266ee5dbc",
   "metadata": {},
   "source": [
    "[Here is the library website](https://www.library.cmu.edu/)"
   ]
  },
  {
   "cell_type": "markdown",
   "id": "ea587bc6-8353-44fe-91c0-9d27aad65d00",
   "metadata": {},
   "source": [
    "Here is the [website][library]. One more time, here is the [site][library].\n",
    "\n",
    "[library]: https://www.library.cmu.edu/\n",
    "[second_url]: "
   ]
  },
  {
   "cell_type": "markdown",
   "id": "e83bfa68-4bf9-4364-b86b-672787f1fb25",
   "metadata": {},
   "source": [
    "$\\sum_{i=1}^{N} 2^{-i} \\approx 1$"
   ]
  },
  {
   "cell_type": "markdown",
   "id": "c74f111c-998d-4ddf-b69c-bdc006254f79",
   "metadata": {},
   "source": [
    "$\\sum_{i=1}^{N} 2^{-i} \\approx 1$"
   ]
  },
  {
   "cell_type": "markdown",
   "id": "088f6ae3-e320-4063-8de6-95b64484d12a",
   "metadata": {},
   "source": [
    "Names|Years\n",
    "---|---\n",
    "Joseph|1995\n",
    "Aaron|2011"
   ]
  },
  {
   "cell_type": "markdown",
   "id": "7bf67242-7c85-4bf5-8e91-7bfd909e1590",
   "metadata": {},
   "source": [
    "Names|Years\n",
    "---|---\n",
    "Joseph|1995\n",
    "Aaron|2011"
   ]
  },
  {
   "cell_type": "markdown",
   "id": "c2a9feff-f40c-4a0b-a4bd-6f5dbf83b688",
   "metadata": {},
   "source": [
    "~~~ python\n",
    "t = 100\n",
    "for i in range(t):\n",
    "    print(i)\n",
    "~~~"
   ]
  },
  {
   "cell_type": "markdown",
   "id": "12abe234-1e60-456e-8c2e-be9256d0119b",
   "metadata": {},
   "source": [
    "<html>\n",
    "    <head>\n",
    "        <title>My Notebook</title>\n",
    "    </head>\n",
    "    <body>\n",
    "        <p>This is a sample of HTML.</p>\n",
    "    </body>\n",
    "</html>"
   ]
  },
  {
   "cell_type": "markdown",
   "id": "6820bb07-4f22-4b2e-9251-569568596c1d",
   "metadata": {},
   "source": [
    "<html>\n",
    "    <head>\n",
    "        <title>My Notebook</title>\n",
    "    </head>\n",
    "    <body>\n",
    "        <p>This is a sample of HTML.</p>\n",
    "    </body>\n",
    "</html>"
   ]
  },
  {
   "cell_type": "code",
   "execution_count": 11,
   "id": "bcf3bdd1-8eea-464a-965b-d6d6969de470",
   "metadata": {},
   "outputs": [
    {
     "name": "stdout",
     "output_type": "stream",
     "text": [
      "2 + 3\n",
      "2 + 3\n",
      "4 - 2\n",
      "last = 5\n",
      "last = 5\n",
      "last\n",
      "something = 7\n",
      "nothing = something - 7\n",
      "nothing\n",
      "something = 7\n",
      "nothing = something - 7\n",
      "nothing\n",
      "$\\sum_{i=1}^{N} 2^{-i} \\approx 1$\n",
      "Names|Years\n",
      "---|---\n",
      "Joseph|1995\n",
      "Aaron|2011\n",
      "%hist\n",
      "2 + 2\n",
      "%hist\n"
     ]
    }
   ],
   "source": [
    "%hist"
   ]
  },
  {
   "cell_type": "code",
   "execution_count": 10,
   "id": "3e7b0630-53cd-4f9b-a708-8e197ddb9220",
   "metadata": {},
   "outputs": [
    {
     "data": {
      "text/plain": [
       "4"
      ]
     },
     "execution_count": 10,
     "metadata": {},
     "output_type": "execute_result"
    }
   ],
   "source": [
    "2 + 2"
   ]
  },
  {
   "cell_type": "code",
   "execution_count": 12,
   "id": "d78a938d-28e0-44fd-b4d7-1a29b9c46173",
   "metadata": {},
   "outputs": [
    {
     "name": "stdout",
     "output_type": "stream",
     "text": [
      "last\t nothing\t something\t \n"
     ]
    }
   ],
   "source": [
    "%who"
   ]
  },
  {
   "cell_type": "code",
   "execution_count": 13,
   "id": "f254b108-727c-4935-9681-8b0d3a310dc7",
   "metadata": {},
   "outputs": [
    {
     "name": "stdout",
     "output_type": "stream",
     "text": [
      "Variable    Type    Data/Info\n",
      "-----------------------------\n",
      "last        int     5\n",
      "nothing     int     0\n",
      "something   int     7\n"
     ]
    }
   ],
   "source": [
    "%whos"
   ]
  },
  {
   "cell_type": "code",
   "execution_count": 14,
   "id": "dae8d37f-63f5-4589-aeda-cd0be6cfeda4",
   "metadata": {},
   "outputs": [
    {
     "data": {
      "text/plain": [
       "['last', 'nothing', 'something']"
      ]
     },
     "execution_count": 14,
     "metadata": {},
     "output_type": "execute_result"
    }
   ],
   "source": [
    "%who_ls"
   ]
  },
  {
   "cell_type": "code",
   "execution_count": 15,
   "id": "b4ae3791-d38b-4a29-b611-3182298759d8",
   "metadata": {},
   "outputs": [
    {
     "name": "stdin",
     "output_type": "stream",
     "text": [
      "Once deleted, variables cannot be recovered. Proceed (y/[n])?  y\n"
     ]
    }
   ],
   "source": [
    "%reset"
   ]
  },
  {
   "cell_type": "code",
   "execution_count": 16,
   "id": "b74a7aff-6b58-4668-bd9b-d2e6040ad78d",
   "metadata": {},
   "outputs": [
    {
     "name": "stdout",
     "output_type": "stream",
     "text": [
      "Interactive namespace is empty.\n"
     ]
    }
   ],
   "source": [
    "%who"
   ]
  },
  {
   "cell_type": "code",
   "execution_count": 18,
   "id": "94bc77bf-679b-4b64-9643-bfbaa7785ad5",
   "metadata": {},
   "outputs": [
    {
     "name": "stdout",
     "output_type": "stream",
     "text": [
      "CPU times: total: 31.2 ms\n",
      "Wall time: 29 ms\n"
     ]
    },
    {
     "data": {
      "text/plain": [
       "499999500000"
      ]
     },
     "execution_count": 18,
     "metadata": {},
     "output_type": "execute_result"
    }
   ],
   "source": [
    "%time sum(range(1000000))"
   ]
  },
  {
   "cell_type": "code",
   "execution_count": 22,
   "id": "76cbe4d9-1290-4cdc-835a-da2a69505534",
   "metadata": {},
   "outputs": [
    {
     "name": "stdout",
     "output_type": "stream",
     "text": [
      "CPU times: total: 172 ms\n",
      "Wall time: 171 ms\n"
     ]
    }
   ],
   "source": [
    "%%time\n",
    "x = 0\n",
    "for i in range(1000000):\n",
    "    x += i"
   ]
  },
  {
   "cell_type": "code",
   "execution_count": 23,
   "id": "f6663d80-ad5e-4a17-998b-629244c90b35",
   "metadata": {},
   "outputs": [],
   "source": [
    "from IPython import display"
   ]
  },
  {
   "cell_type": "code",
   "execution_count": 24,
   "id": "c464fa76-140c-4977-a12f-1f811215242e",
   "metadata": {},
   "outputs": [],
   "source": [
    "json_dict = {\n",
    "    \"name\": \"John Smith\",\n",
    "    \"age\": 35,\n",
    "    \"address\": {\n",
    "        \"street\": \"123 Main St\",\n",
    "        \"city\": \"Anytown\"\n",
    "    }\n",
    "}"
   ]
  },
  {
   "cell_type": "code",
   "execution_count": 25,
   "id": "894d6c7d-0d83-4e05-a31d-288b0bfb083f",
   "metadata": {},
   "outputs": [
    {
     "data": {
      "text/plain": [
       "{'name': 'John Smith',\n",
       " 'age': 35,\n",
       " 'address': {'street': '123 Main St', 'city': 'Anytown'}}"
      ]
     },
     "execution_count": 25,
     "metadata": {},
     "output_type": "execute_result"
    }
   ],
   "source": [
    "json_dict"
   ]
  },
  {
   "cell_type": "code",
   "execution_count": 26,
   "id": "1f42c483-ef99-48e7-bbea-e183cb847885",
   "metadata": {},
   "outputs": [
    {
     "data": {
      "application/json": {
       "address": {
        "city": "Anytown",
        "street": "123 Main St"
       },
       "age": 35,
       "name": "John Smith"
      },
      "text/plain": [
       "<IPython.core.display.JSON object>"
      ]
     },
     "execution_count": 26,
     "metadata": {
      "application/json": {
       "expanded": false,
       "root": "root"
      }
     },
     "output_type": "execute_result"
    }
   ],
   "source": [
    "display.JSON(data = json_dict)"
   ]
  },
  {
   "cell_type": "code",
   "execution_count": 27,
   "id": "9bf4a986-2441-4190-8cbf-6ae47dd6cfb6",
   "metadata": {},
   "outputs": [],
   "source": [
    "import json\n",
    "\n",
    "with open('data.json', 'w') as f:\n",
    "    json.dump(json_dict, f)"
   ]
  },
  {
   "cell_type": "code",
   "execution_count": 30,
   "id": "f45fc6ca-56ea-40c6-8aa7-6b2cc7fb8702",
   "metadata": {},
   "outputs": [
    {
     "data": {
      "text/html": [
       "\n",
       "        <iframe\n",
       "            width=\"400\"\n",
       "            height=\"200\"\n",
       "            src=\"https://cmu-lib.github.io/portfolio_workshop/Python_Series_Materials/making_the_most_jupyter.html\"\n",
       "            frameborder=\"0\"\n",
       "            allowfullscreen\n",
       "            \n",
       "        ></iframe>\n",
       "        "
      ],
      "text/plain": [
       "<IPython.lib.display.IFrame at 0x14a20f50610>"
      ]
     },
     "execution_count": 30,
     "metadata": {},
     "output_type": "execute_result"
    }
   ],
   "source": [
    "URL = 'https://cmu-lib.github.io/portfolio_workshop/Python_Series_Materials/making_the_most_jupyter.html'\n",
    "\n",
    "display.IFrame(src = URL, width=400, height=200)"
   ]
  },
  {
   "cell_type": "code",
   "execution_count": 31,
   "id": "e5068ad1-6230-4236-bc9b-07ace2d10114",
   "metadata": {},
   "outputs": [
    {
     "data": {
      "image/png": "[encoded data removed]",
      "text/plain": [
       "<IPython.core.display.Image object>"
      ]
     },
     "execution_count": 31,
     "metadata": {},
     "output_type": "execute_result"
    }
   ],
   "source": [
    "display.Image('share.png')"
   ]
  },
  {
   "cell_type": "code",
   "execution_count": 34,
   "id": "94cdefa3-70ce-4d6a-8e83-9f5df48e7361",
   "metadata": {},
   "outputs": [
    {
     "data": {
      "text/html": [
       "<img src=\"https://upload.wikimedia.org/wikipedia/commons/a/a4/Hubble_Takes_Close-up_Portrait_of_Jupiter.png\" width=\"400\" height=\"200\"/>"
      ],
      "text/plain": [
       "<IPython.core.display.Image object>"
      ]
     },
     "execution_count": 34,
     "metadata": {},
     "output_type": "execute_result"
    }
   ],
   "source": [
    "display.Image(url='https://upload.wikimedia.org/wikipedia/commons/a/a4/Hubble_Takes_Close-up_Portrait_of_Jupiter.png',\n",
    "             width=400,\n",
    "             height=200)"
   ]
  },
  {
   "cell_type": "markdown",
   "id": "d2705398-b241-4a8b-8a31-0b15aa6dd39d",
   "metadata": {},
   "source": [
    "![The Jupyter Logo](share.png)"
   ]
  },
  {
   "cell_type": "markdown",
   "id": "5838e14b-8615-40f9-8be2-4b3335ebaa44",
   "metadata": {},
   "source": [
    "![The Jupyter Logo](share.png)"
   ]
  },
  {
   "cell_type": "code",
   "execution_count": 35,
   "id": "37fd1c3f-7ae4-43ce-9574-191f83b8d060",
   "metadata": {},
   "outputs": [
    {
     "data": {
      "image/jpeg": "[encoded data removed]",
      "text/html": [
       "\n",
       "        <iframe\n",
       "            width=\"400\"\n",
       "            height=\"300\"\n",
       "            src=\"https://www.youtube.com/embed/jZ952vChhuI\"\n",
       "            frameborder=\"0\"\n",
       "            allowfullscreen\n",
       "            \n",
       "        ></iframe>\n",
       "        "
      ],
      "text/plain": [
       "<IPython.lib.display.YouTubeVideo at 0x14a20f507f0>"
      ]
     },
     "execution_count": 35,
     "metadata": {},
     "output_type": "execute_result"
    }
   ],
   "source": [
    "display.YouTubeVideo('jZ952vChhuI')"
   ]
  },
  {
   "cell_type": "code",
   "execution_count": 36,
   "id": "780181da-f5cb-4147-b4f8-e13014037665",
   "metadata": {},
   "outputs": [
    {
     "data": {
      "text/html": [
       "<iframe width=\"560\" height=\"315\" src=\"https://www.youtube.com/embed/jZ952vChhuI?si=0XbgZwnNV1esNJ2t\" title=\"YouTube video player\" frameborder=\"0\" allow=\"accelerometer; autoplay; clipboard-write; encrypted-media; gyroscope; picture-in-picture; web-share\" allowfullscreen></iframe>\n"
      ],
      "text/plain": [
       "<IPython.core.display.HTML object>"
      ]
     },
     "metadata": {},
     "output_type": "display_data"
    }
   ],
   "source": [
    "%%html\n",
    "<iframe width=\"560\" height=\"315\" src=\"https://www.youtube.com/embed/jZ952vChhuI?si=0XbgZwnNV1esNJ2t\" title=\"YouTube video player\" frameborder=\"0\" allow=\"accelerometer; autoplay; clipboard-write; encrypted-media; gyroscope; picture-in-picture; web-share\" allowfullscreen></iframe>"
   ]
  },
  {
   "cell_type": "code",
   "execution_count": null,
   "id": "088ce959-2ecc-4334-85eb-3dad3784b30e",
   "metadata": {},
   "outputs": [],
   "source": []
  }
 ],
 "metadata": {
  "kernelspec": {
   "display_name": "Python 3 (ipykernel)",
   "language": "python",
   "name": "python3"
  },
  "language_info": {
   "codemirror_mode": {
    "name": "ipython",
    "version": 3
   },
   "file_extension": ".py",
   "mimetype": "text/x-python",
   "name": "python",
   "nbconvert_exporter": "python",
   "pygments_lexer": "ipython3",
   "version": "3.9.12"
  }
 },
 "nbformat": 4,
 "nbformat_minor": 5
}
